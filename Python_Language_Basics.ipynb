{
  "nbformat": 4,
  "nbformat_minor": 0,
  "metadata": {
    "colab": {
      "provenance": [],
      "authorship_tag": "ABX9TyNwIBGpD//QoA01t0vQMyxN",
      "include_colab_link": true
    },
    "kernelspec": {
      "name": "python3",
      "display_name": "Python 3"
    },
    "language_info": {
      "name": "python"
    }
  },
  "cells": [
    {
      "cell_type": "markdown",
      "metadata": {
        "id": "view-in-github",
        "colab_type": "text"
      },
      "source": [
        "<a href=\"https://colab.research.google.com/github/Harry-Turner/Python/blob/main/Python_Language_Basics.ipynb\" target=\"_parent\"><img src=\"https://colab.research.google.com/assets/colab-badge.svg\" alt=\"Open In Colab\"/></a>"
      ]
    },
    {
      "cell_type": "code",
      "execution_count": 3,
      "metadata": {
        "colab": {
          "base_uri": "https://localhost:8080/"
        },
        "id": "5R9c3IIUC3xJ",
        "outputId": "b3ca1ade-ed1a-4875-e8b4-f1bd8e5405c5"
      },
      "outputs": [
        {
          "output_type": "stream",
          "name": "stdout",
          "text": [
            "False\n",
            "True\n",
            "False\n"
          ]
        }
      ],
      "source": [
        "is_game_over = False\n",
        "print(is_game_over)\n",
        "is_game_over = True\n",
        "print(is_game_over)\n",
        "is_game_over = 5 > 6\n",
        "print(is_game_over)\n"
      ]
    },
    {
      "cell_type": "code",
      "source": [
        "num_lives = 5\n",
        "print(num_lives)\n",
        "percent_health = 0.5\n",
        "print(percent_health)"
      ],
      "metadata": {
        "colab": {
          "base_uri": "https://localhost:8080/"
        },
        "id": "qDXvzSjlFNk9",
        "outputId": "23d63358-bd27-4c22-c0ae-295bee029b4e"
      },
      "execution_count": 4,
      "outputs": [
        {
          "output_type": "stream",
          "name": "stdout",
          "text": [
            "5\n",
            "0.5\n"
          ]
        }
      ]
    },
    {
      "cell_type": "code",
      "source": [
        "player_name = \"Harry\"\n",
        "print(player_name)\n",
        "player_name = \"Mammoth\"\n",
        "print(player_name)"
      ],
      "metadata": {
        "colab": {
          "base_uri": "https://localhost:8080/"
        },
        "id": "Q7NUXOVSFlRZ",
        "outputId": "084f345c-59f4-4844-b8d2-0f8ecc1461a8"
      },
      "execution_count": 7,
      "outputs": [
        {
          "output_type": "stream",
          "name": "stdout",
          "text": [
            "Harry\n",
            "Mammoth\n"
          ]
        }
      ]
    },
    {
      "cell_type": "code",
      "source": [
        "print(type(is_game_over))\n",
        "print(type(num_lives))\n",
        "print(type(player_name))\n"
      ],
      "metadata": {
        "colab": {
          "base_uri": "https://localhost:8080/"
        },
        "id": "R7U5KeGAF6R3",
        "outputId": "5d5bf33b-d6b6-46dd-e173-7b3fb60a8dab"
      },
      "execution_count": 8,
      "outputs": [
        {
          "output_type": "stream",
          "name": "stdout",
          "text": [
            "<class 'bool'>\n",
            "<class 'int'>\n",
            "<class 'str'>\n"
          ]
        }
      ]
    },
    {
      "cell_type": "code",
      "source": [
        "print(type(str(num_lives)))"
      ],
      "metadata": {
        "colab": {
          "base_uri": "https://localhost:8080/"
        },
        "id": "ELPbqgRtGdSK",
        "outputId": "46c4ec69-b0d9-4a82-a967-b9252019f554"
      },
      "execution_count": 9,
      "outputs": [
        {
          "output_type": "stream",
          "name": "stdout",
          "text": [
            "<class 'str'>\n"
          ]
        }
      ]
    },
    {
      "cell_type": "code",
      "source": [
        "print(bool(0))\n",
        "print(bool(1))\n",
        "print(bool(0.1))\n",
        "print(bool(\"ThisIsString\"))"
      ],
      "metadata": {
        "colab": {
          "base_uri": "https://localhost:8080/"
        },
        "id": "oBujj9YvHCmF",
        "outputId": "764f79e3-285d-4160-9880-2162f9059ff1"
      },
      "execution_count": 10,
      "outputs": [
        {
          "output_type": "stream",
          "name": "stdout",
          "text": [
            "False\n",
            "True\n",
            "True\n",
            "True\n"
          ]
        }
      ]
    },
    {
      "cell_type": "code",
      "source": [
        "# print(int(\"test\"))\n",
        "print(int(\"1\"))"
      ],
      "metadata": {
        "id": "gA47jplJHbFK"
      },
      "execution_count": null,
      "outputs": []
    },
    {
      "cell_type": "code",
      "source": [
        "health = 50\n",
        "health = health + 20\n",
        "new_health  = health + 20\n",
        "\n",
        "xPos = 5\n",
        "print(xPos % 2)\n",
        "print(xPos // 2)\n",
        "print(xPos ** 2)\n",
        "\n",
        "first_name = \"Harry\"\n",
        "last_name = \"Turner\"\n",
        "print(first_name + \" \" + last_name)"
      ],
      "metadata": {
        "colab": {
          "base_uri": "https://localhost:8080/"
        },
        "id": "_yGtVyDQIIE3",
        "outputId": "9ed4a2f9-b64c-42fb-8c08-ebb27ed49f8d"
      },
      "execution_count": 17,
      "outputs": [
        {
          "output_type": "stream",
          "name": "stdout",
          "text": [
            "1\n",
            "2\n",
            "25\n",
            "Harry Turner\n"
          ]
        }
      ]
    },
    {
      "cell_type": "code",
      "source": [
        "health = 50\n",
        "health += 20\n",
        "health -= 20\n",
        "print(health)"
      ],
      "metadata": {
        "colab": {
          "base_uri": "https://localhost:8080/"
        },
        "id": "6AUc1V91JAC6",
        "outputId": "de3e3a9b-8bfc-4211-d316-45058ee3cc28"
      },
      "execution_count": 18,
      "outputs": [
        {
          "output_type": "stream",
          "name": "stdout",
          "text": [
            "70\n"
          ]
        }
      ]
    }
  ]
}