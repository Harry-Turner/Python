{
  "nbformat": 4,
  "nbformat_minor": 0,
  "metadata": {
    "colab": {
      "private_outputs": true,
      "provenance": [],
      "authorship_tag": "ABX9TyPRc+Kz1qg4MUx8RIVE7UyA",
      "include_colab_link": true
    },
    "kernelspec": {
      "name": "python3",
      "display_name": "Python 3"
    },
    "language_info": {
      "name": "python"
    }
  },
  "cells": [
    {
      "cell_type": "markdown",
      "metadata": {
        "id": "view-in-github",
        "colab_type": "text"
      },
      "source": [
        "<a href=\"https://colab.research.google.com/github/Harry-Turner/Python/blob/main/Python_Language_Basics.ipynb\" target=\"_parent\"><img src=\"https://colab.research.google.com/assets/colab-badge.svg\" alt=\"Open In Colab\"/></a>"
      ]
    },
    {
      "cell_type": "code",
      "execution_count": null,
      "metadata": {
        "id": "5R9c3IIUC3xJ"
      },
      "outputs": [],
      "source": [
        "is_game_over = False\n",
        "print(is_game_over)\n",
        "is_game_over = True\n",
        "print(is_game_over)\n",
        "is_game_over = 5 > 6\n",
        "print(is_game_over)\n"
      ]
    },
    {
      "cell_type": "code",
      "source": [
        "num_lives = 5\n",
        "print(num_lives)\n",
        "percent_health = 0.5\n",
        "print(percent_health)"
      ],
      "metadata": {
        "id": "qDXvzSjlFNk9"
      },
      "execution_count": null,
      "outputs": []
    },
    {
      "cell_type": "code",
      "source": [
        "player_name = \"Harry\"\n",
        "print(player_name)\n",
        "player_name = \"Mammoth\"\n",
        "print(player_name)"
      ],
      "metadata": {
        "id": "Q7NUXOVSFlRZ"
      },
      "execution_count": null,
      "outputs": []
    },
    {
      "cell_type": "code",
      "source": [
        "print(type(is_game_over))\n",
        "print(type(num_lives))\n",
        "print(type(player_name))\n"
      ],
      "metadata": {
        "id": "R7U5KeGAF6R3"
      },
      "execution_count": null,
      "outputs": []
    },
    {
      "cell_type": "code",
      "source": [
        "print(type(str(num_lives)))"
      ],
      "metadata": {
        "id": "ELPbqgRtGdSK"
      },
      "execution_count": null,
      "outputs": []
    },
    {
      "cell_type": "code",
      "source": [
        "print(bool(0))\n",
        "print(bool(1))\n",
        "print(bool(0.1))\n",
        "print(bool(\"ThisIsString\"))"
      ],
      "metadata": {
        "id": "oBujj9YvHCmF"
      },
      "execution_count": null,
      "outputs": []
    },
    {
      "cell_type": "code",
      "source": [
        "# print(int(\"test\"))\n",
        "print(int(\"1\"))"
      ],
      "metadata": {
        "id": "gA47jplJHbFK"
      },
      "execution_count": null,
      "outputs": []
    },
    {
      "cell_type": "code",
      "source": [
        "health = 50\n",
        "health = health + 20\n",
        "new_health  = health + 20\n",
        "\n",
        "xPos = 5\n",
        "print(xPos % 2)\n",
        "print(xPos // 2)\n",
        "print(xPos ** 2)\n",
        "\n",
        "first_name = \"Harry\"\n",
        "last_name = \"Turner\"\n",
        "print(first_name + \" \" + last_name)"
      ],
      "metadata": {
        "id": "_yGtVyDQIIE3"
      },
      "execution_count": null,
      "outputs": []
    },
    {
      "cell_type": "code",
      "source": [
        "health = 50\n",
        "health += 20\n",
        "health -= 20\n",
        "print(health)"
      ],
      "metadata": {
        "id": "6AUc1V91JAC6"
      },
      "execution_count": null,
      "outputs": []
    },
    {
      "cell_type": "code",
      "source": [
        "inventory = ['Sword', 'Bread', 'Boots']\n",
        "inventory[0] = 'knife'\n",
        "weapon = inventory[0]\n",
        "print(inventory)"
      ],
      "metadata": {
        "id": "s_uXHtfiLBfD"
      },
      "execution_count": null,
      "outputs": []
    },
    {
      "cell_type": "code",
      "source": [
        "print(len(inventory))\n",
        "print(max(inventory))\n",
        "print(min(inventory)) # Alphabetical\n",
        "\n",
        "inventory.append('Helmet')\n",
        "print(inventory)\n",
        "inventory.insert(0, 'Gloves')\n",
        "print(inventory)\n",
        "inventory.remove('Gloves')\n",
        "print(inventory)\n",
        "inventory.clear()\n",
        "print(inventory)"
      ],
      "metadata": {
        "id": "Dp_NWiO5MygO"
      },
      "execution_count": null,
      "outputs": []
    },
    {
      "cell_type": "code",
      "source": [
        "universe = [[1, 2, 3],\n",
        "            [1, 2, 3, 4, 5],\n",
        "            [1, 2],\n",
        "            [1, 2, 3]]\n",
        "ninth_world = universe[2][1]\n",
        "print(ninth_world)\n",
        "universe.append([1, 2, 3, 4, 5])\n",
        "universe[1].pop()\n",
        "print(universe)"
      ],
      "metadata": {
        "id": "mn65r0CaPHXc"
      },
      "execution_count": null,
      "outputs": []
    },
    {
      "cell_type": "code",
      "source": [
        "item = (\"Health Kit\", 4)\n",
        "name = item[0]\n",
        "quantity = item[1]\n",
        "print(item.index(4))"
      ],
      "metadata": {
        "id": "1wck5cy1Qa6N"
      },
      "execution_count": null,
      "outputs": []
    },
    {
      "cell_type": "code",
      "source": [
        "# Dictionaries are key - Value pairs\n",
        "inventory = {'Knife': 1, 'Health Kit': 3, 'Wood': 5}\n",
        "print(inventory['Knife'])\n",
        "inventory['Knife'] = 2\n",
        "print(inventory['Knife'])\n",
        "inventory['Gold'] = 50\n",
        "print(inventory)"
      ],
      "metadata": {
        "id": "gpPbOzAsRsJX"
      },
      "execution_count": null,
      "outputs": []
    },
    {
      "cell_type": "code",
      "source": [
        "inventory = {'Knife': 1, 'Health Kit': 3, 'Wood': 5}\n",
        "# print(inventory['Gold'])\n",
        "print(inventory.get('Gold'))\n",
        "print(inventory.keys())\n",
        "print(inventory.values())\n",
        "\n",
        "inventory.pop('Knife')\n",
        "print(inventory)"
      ],
      "metadata": {
        "id": "feCpeXnJTQey"
      },
      "execution_count": null,
      "outputs": []
    },
    {
      "cell_type": "code",
      "source": [
        "first_ten = range(10)\n",
        "print(first_ten[0])\n",
        "\n",
        "first_ten = range(1,11)\n",
        "print(first_ten[9])\n",
        "\n",
        "reversed_ten = reversed(first_ten)\n",
        "reversed_ten = list(reversed_ten)\n",
        "print(reversed_ten)\n",
        "\n",
        "print(5 in first_ten)"
      ],
      "metadata": {
        "id": "wLm3ZnFGUu1s"
      },
      "execution_count": null,
      "outputs": []
    },
    {
      "cell_type": "code",
      "source": [
        "for i in range(1,6):\n",
        "  print(i)\n",
        "\n",
        "inventory = ['Boots', 'Arrows', 'Bow', 'Sword', 'Shield']\n",
        "for item in inventory:\n",
        "  print(item)\n",
        "\n",
        "# for i in range(4):\n",
        "#   print(inventory[i])\n",
        "#   if i == 1:\n",
        "#     break"
      ],
      "metadata": {
        "id": "eyVO7OAAX2GV"
      },
      "execution_count": null,
      "outputs": []
    },
    {
      "cell_type": "code",
      "source": [
        "x_pos = 0\n",
        "def move():\n",
        "  global x_pos\n",
        "  x_pos += 1\n",
        "\n",
        "move()\n",
        "print(x_pos)"
      ],
      "metadata": {
        "id": "tnDvqLyHaDfk"
      },
      "execution_count": null,
      "outputs": []
    },
    {
      "cell_type": "code",
      "source": [
        "x_pos = 0\n",
        "\n",
        "def move(by_amount=1): # Default Value\n",
        "  global x_pos\n",
        "  x_pos += by_amount\n",
        "\n",
        "move(4)\n",
        "print(x_pos)"
      ],
      "metadata": {
        "id": "IEKI7d3lcHBm"
      },
      "execution_count": null,
      "outputs": []
    },
    {
      "cell_type": "code",
      "source": [
        "start_pos = 0\n",
        "end_pos = 10\n",
        "x_pos = 0\n",
        "\n",
        "def move(x_pos, by_amount=1):\n",
        "  global start_pos, end_pos\n",
        "  x_pos += by_amount\n",
        "  if x_pos < start_pos:\n",
        "    return start_pos\n",
        "  elif x_pos > end_pos:\n",
        "    return end_pos\n",
        "  return x_pos\n",
        "\n",
        "final_x_pos = move(x_pos, 5)\n",
        "print(final_x_pos)"
      ],
      "metadata": {
        "id": "t90H8d2wc08V"
      },
      "execution_count": null,
      "outputs": []
    }
  ]
}