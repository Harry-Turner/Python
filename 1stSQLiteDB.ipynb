{
  "nbformat": 4,
  "nbformat_minor": 0,
  "metadata": {
    "colab": {
      "provenance": [],
      "authorship_tag": "ABX9TyMxR7vkceHPqVn7XFa0JdoM",
      "include_colab_link": true
    },
    "kernelspec": {
      "name": "python3",
      "display_name": "Python 3"
    },
    "language_info": {
      "name": "python"
    }
  },
  "cells": [
    {
      "cell_type": "markdown",
      "metadata": {
        "id": "view-in-github",
        "colab_type": "text"
      },
      "source": [
        "<a href=\"https://colab.research.google.com/github/Harry-Turner/Python/blob/main/1stSQLiteDB.ipynb\" target=\"_parent\"><img src=\"https://colab.research.google.com/assets/colab-badge.svg\" alt=\"Open In Colab\"/></a>"
      ]
    },
    {
      "cell_type": "code",
      "execution_count": 1,
      "metadata": {
        "id": "HR7f6YxBFVAA"
      },
      "outputs": [],
      "source": [
        "import sqlite3"
      ]
    },
    {
      "cell_type": "code",
      "source": [
        "DATABASE_PATH = 'school.db'\n",
        "\n",
        "connection = sqlite3.connect(DATABASE_PATH)"
      ],
      "metadata": {
        "id": "zr-UqFTCForW"
      },
      "execution_count": 2,
      "outputs": []
    },
    {
      "cell_type": "code",
      "source": [
        "cursor = connection.cursor()"
      ],
      "metadata": {
        "id": "QmgxQwADF-_j"
      },
      "execution_count": 3,
      "outputs": []
    },
    {
      "cell_type": "code",
      "source": [
        "sql = (\n",
        "    '''\n",
        "      CREATE TABLE IF NOT EXISTS companies (\n",
        "        id INTEGER PRIMARY KEY AUTOINCREMENT,\n",
        "        name TEXT NOT NULL\n",
        "      )\n",
        "    '''\n",
        ")\n",
        "\n",
        "cursor.execute(sql)"
      ],
      "metadata": {
        "colab": {
          "base_uri": "https://localhost:8080/"
        },
        "id": "TdEiaY1-GNh9",
        "outputId": "0dbcf671-4abd-4ddd-c5d1-20ce7a59f79e"
      },
      "execution_count": 4,
      "outputs": [
        {
          "output_type": "execute_result",
          "data": {
            "text/plain": [
              "<sqlite3.Cursor at 0x7f937b1bb340>"
            ]
          },
          "metadata": {},
          "execution_count": 4
        }
      ]
    },
    {
      "cell_type": "code",
      "source": [
        "sql = (\n",
        "    '''\n",
        "      CREATE TABLE IF NOT EXISTS courses (\n",
        "        id INTEGER PRIMARY KEY AUTOINCREMENT,\n",
        "        name TEXT NOT NULL,\n",
        "        category TEXT NOT NULL,\n",
        "        company_id INTEGER\n",
        "      )\n",
        "    '''\n",
        ")\n",
        "\n",
        "cursor.execute(sql)"
      ],
      "metadata": {
        "colab": {
          "base_uri": "https://localhost:8080/"
        },
        "id": "DjrY2Q5_G2oN",
        "outputId": "41826d78-f6f6-466b-fbc1-62922c963788"
      },
      "execution_count": 5,
      "outputs": [
        {
          "output_type": "execute_result",
          "data": {
            "text/plain": [
              "<sqlite3.Cursor at 0x7f937b1bb340>"
            ]
          },
          "metadata": {},
          "execution_count": 5
        }
      ]
    },
    {
      "cell_type": "code",
      "source": [
        "sql = \"INSERT INTO companies (name) VALUES (?)\"\n",
        "\n",
        "cursor.execute(sql, (\"Mammoth Interactive\",))\n",
        "\n",
        "connection.commit()"
      ],
      "metadata": {
        "id": "AGfpCn-QHXaO"
      },
      "execution_count": 6,
      "outputs": []
    },
    {
      "cell_type": "code",
      "source": [
        "cursor.execute(sql,(\"Amazon\",))\n",
        "\n",
        "connection.commit()"
      ],
      "metadata": {
        "id": "EhL__5BvIDOg"
      },
      "execution_count": 7,
      "outputs": []
    },
    {
      "cell_type": "code",
      "source": [
        "sql = \"INSERT INTO courses (name, category, company_id) VALUES (?, ?, ?)\"\n",
        "\n",
        "cursor.execute(sql, (\"Hello Coding\", \"programming\", 1))\n",
        "\n",
        "connection.commit()"
      ],
      "metadata": {
        "id": "WFeZKSsmIU0R"
      },
      "execution_count": 8,
      "outputs": []
    },
    {
      "cell_type": "code",
      "source": [
        "companies = connection.execute(\"SELECT count(id) FROM companies\").fetchone()\n",
        "\n",
        "print(*companies)"
      ],
      "metadata": {
        "colab": {
          "base_uri": "https://localhost:8080/"
        },
        "id": "nMHlhr4tJBgD",
        "outputId": "841cedd5-92d5-4236-b9b0-c9db61dae885"
      },
      "execution_count": 9,
      "outputs": [
        {
          "output_type": "stream",
          "name": "stdout",
          "text": [
            "2\n"
          ]
        }
      ]
    },
    {
      "cell_type": "code",
      "source": [
        "courses = connection.execute(\"SELECT count(id) FROM courses\").fetchone()\n",
        "print(*courses)"
      ],
      "metadata": {
        "colab": {
          "base_uri": "https://localhost:8080/"
        },
        "id": "cJUVVlvlJkOL",
        "outputId": "6c855761-ebc0-4728-ab05-5ca45c2d59c9"
      },
      "execution_count": 10,
      "outputs": [
        {
          "output_type": "stream",
          "name": "stdout",
          "text": [
            "1\n"
          ]
        }
      ]
    },
    {
      "cell_type": "code",
      "source": [
        "cursor.execute(\"SELECT id FROM courses WHERE name=?\", (\"Hello Coding\",))\n",
        "print(cursor.fetchone())"
      ],
      "metadata": {
        "colab": {
          "base_uri": "https://localhost:8080/"
        },
        "id": "Xf74SnziKbo2",
        "outputId": "cdcd2359-3cd1-4686-8512-5fb20a3647f5"
      },
      "execution_count": 11,
      "outputs": [
        {
          "output_type": "stream",
          "name": "stdout",
          "text": [
            "(1,)\n"
          ]
        }
      ]
    },
    {
      "cell_type": "code",
      "source": [
        "cursor.execute(\"SELECT id FROM courses WHERE name=?\", (\"Machine Learning\",))\n",
        "print(cursor.fetchone())"
      ],
      "metadata": {
        "colab": {
          "base_uri": "https://localhost:8080/"
        },
        "id": "Ifrb5Aj5KqMv",
        "outputId": "cb5c34b5-589d-438c-f78d-54dfe7e6247e"
      },
      "execution_count": 12,
      "outputs": [
        {
          "output_type": "stream",
          "name": "stdout",
          "text": [
            "None\n"
          ]
        }
      ]
    },
    {
      "cell_type": "code",
      "source": [
        "cursor.execute(\"SELECT id FROM companies WHERE name=?\", (\"Amazon\",))\n",
        "print(cursor.fetchone())"
      ],
      "metadata": {
        "colab": {
          "base_uri": "https://localhost:8080/"
        },
        "id": "AKTRYofzKx2y",
        "outputId": "e4f732c6-466d-467f-b1e1-57ca2b3908e0"
      },
      "execution_count": 13,
      "outputs": [
        {
          "output_type": "stream",
          "name": "stdout",
          "text": [
            "(2,)\n"
          ]
        }
      ]
    },
    {
      "cell_type": "code",
      "source": [
        "sql = \"INSERT INTO courses (name, category, company_id) VALUES (?, ?, ?)\"\n",
        "\n",
        "cursor.execute(sql, (\"Machine Learning\", \"programming\", 1))\n",
        "\n",
        "connection.commit()"
      ],
      "metadata": {
        "id": "XLAVBOS4LG7X"
      },
      "execution_count": 14,
      "outputs": []
    },
    {
      "cell_type": "code",
      "source": [
        "cursor.execute(\"SELECT name FROM courses WHERE category=?\", (\"programming\",))\n",
        "print(cursor.fetchall())"
      ],
      "metadata": {
        "colab": {
          "base_uri": "https://localhost:8080/"
        },
        "id": "2HcPFmPsLN4U",
        "outputId": "060b6a24-d617-40be-d803-faceb773b793"
      },
      "execution_count": 15,
      "outputs": [
        {
          "output_type": "stream",
          "name": "stdout",
          "text": [
            "[('Hello Coding',), ('Machine Learning',)]\n"
          ]
        }
      ]
    },
    {
      "cell_type": "code",
      "source": [
        "import os\n",
        "\n",
        "def connect(path=\"school.db\", syncdb=False):\n",
        "\n",
        "  if os.path.exists(path):\n",
        "\n",
        "    connection = sqlite3.connect(path)\n",
        "  else:\n",
        "\n",
        "    syncdb = True\n",
        "\n",
        "  return connection"
      ],
      "metadata": {
        "id": "TXmaET1DL141"
      },
      "execution_count": 16,
      "outputs": []
    },
    {
      "cell_type": "code",
      "source": [
        "print(\"Enter course name: \")\n",
        "name = input()\n",
        "\n",
        "print(\"Enter course category: \")\n",
        "category = input()\n",
        "\n",
        "print(\"Enter course company id: \")\n",
        "company = input()\n",
        "\n",
        "def insert_row_courses(name, category, company, connection):\n",
        "  sql = \"INSERT INTO courses (name, category, company_id) VALUES (?,?,?)\"\n",
        "\n",
        "  cursor = connection.cursor()\n",
        "\n",
        "  check_exists = cursor.execute(\"SELECT id FROM courses WHERE name =?\",\n",
        "                                 (name,)).fetchone()\n",
        "\n",
        "  print(check_exists)\n",
        "\n",
        "  if (check_exists is None):\n",
        "\n",
        "    cursor.execute(sql, (name,category,company))\n",
        "    connection.commit()\n",
        "\n",
        "  else:\n",
        "    print(\"Course already exists\")\n",
        "\n",
        "connection = connect()\n",
        "insert_row_courses(name, category, company, connect())\n",
        "\n",
        "courses_count = connection.execute(\"SELECT count(id) FROM courses\").fetchone()\n",
        "\n",
        "print(\"Number of courses: {}\".format(*courses_count))"
      ],
      "metadata": {
        "colab": {
          "base_uri": "https://localhost:8080/"
        },
        "id": "2jRMZ0ISMh7b",
        "outputId": "7b773cb2-92b6-4193-fd1b-113ee123dc9c"
      },
      "execution_count": 21,
      "outputs": [
        {
          "output_type": "stream",
          "name": "stdout",
          "text": [
            "Enter course name: \n",
            "flask\n",
            "Enter course category: \n",
            "coding\n",
            "Enter course company id: \n",
            "7\n",
            "None\n",
            "Number of courses: 5\n"
          ]
        }
      ]
    },
    {
      "cell_type": "code",
      "source": [
        "sql = '''\n",
        "      SELECT companies.name, courses.name\n",
        "      FROM companies\n",
        "      LEFT JOIN courses\n",
        "      ON companies.id = courses.company_id\n",
        "      '''\n",
        "cursor.execute(sql)\n",
        "print(cursor.fetchall())"
      ],
      "metadata": {
        "colab": {
          "base_uri": "https://localhost:8080/"
        },
        "id": "tQgE11h0RHfl",
        "outputId": "03000d02-97b7-4907-9b89-e0a93a832b50"
      },
      "execution_count": 22,
      "outputs": [
        {
          "output_type": "stream",
          "name": "stdout",
          "text": [
            "[('Mammoth Interactive', 'Hello Coding'), ('Mammoth Interactive', 'Machine Learning'), ('Mammoth Interactive', 'b'), ('Amazon', None)]\n"
          ]
        }
      ]
    },
    {
      "cell_type": "code",
      "source": [
        "sql = '''\n",
        "      SELECT companies.name, courses.name\n",
        "      FROM companies\n",
        "      INNER JOIN courses\n",
        "      ON companies.name = 'Mammoth Interactive'\n",
        "      '''\n",
        "\n",
        "cursor.execute(sql)\n",
        "print(cursor.fetchall())"
      ],
      "metadata": {
        "id": "PGOXuTBXS1hK",
        "outputId": "f188b07c-0fa8-43b6-9768-cb0e3aa48658",
        "colab": {
          "base_uri": "https://localhost:8080/"
        }
      },
      "execution_count": 23,
      "outputs": [
        {
          "output_type": "stream",
          "name": "stdout",
          "text": [
            "[('Mammoth Interactive', 'Hello Coding'), ('Mammoth Interactive', 'Machine Learning'), ('Mammoth Interactive', 'a'), ('Mammoth Interactive', 'b'), ('Mammoth Interactive', 'flask')]\n"
          ]
        }
      ]
    },
    {
      "cell_type": "code",
      "source": [
        "sql = '''\n",
        "      SELECT *\n",
        "      FROM companies\n",
        "      LEFT JOIN courses\n",
        "      ON companies.id = courses.company_id\n",
        "      '''\n",
        "\n",
        "cursor.execute(sql)\n",
        "print(cursor.fetchall())"
      ],
      "metadata": {
        "id": "HUm6qbIsTkRd",
        "outputId": "4697e849-0420-4c8d-903d-348661fa6249",
        "colab": {
          "base_uri": "https://localhost:8080/"
        }
      },
      "execution_count": 25,
      "outputs": [
        {
          "output_type": "stream",
          "name": "stdout",
          "text": [
            "[(1, 'Mammoth Interactive', 1, 'Hello Coding', 'programming', 1), (1, 'Mammoth Interactive', 2, 'Machine Learning', 'programming', 1), (1, 'Mammoth Interactive', 4, 'b', '', 1), (2, 'Amazon', None, None, None, None)]\n"
          ]
        }
      ]
    },
    {
      "cell_type": "code",
      "source": [
        "sql = '''\n",
        "      SELECT *\n",
        "      FROM companies\n",
        "      INNER JOIN courses\n",
        "      ON companies.id = courses.company_id\n",
        "      '''\n",
        "\n",
        "cursor.execute(sql)\n",
        "print(cursor.fetchall())"
      ],
      "metadata": {
        "id": "RvJPIbHCUApx",
        "outputId": "f7d2948e-a858-485c-8e70-68108efd37fa",
        "colab": {
          "base_uri": "https://localhost:8080/"
        }
      },
      "execution_count": 26,
      "outputs": [
        {
          "output_type": "stream",
          "name": "stdout",
          "text": [
            "[(1, 'Mammoth Interactive', 1, 'Hello Coding', 'programming', 1), (1, 'Mammoth Interactive', 2, 'Machine Learning', 'programming', 1), (1, 'Mammoth Interactive', 4, 'b', '', 1)]\n"
          ]
        }
      ]
    }
  ]
}